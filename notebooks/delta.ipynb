{
 "cells": [
  {
   "cell_type": "code",
   "execution_count": null,
   "metadata": {},
   "outputs": [],
   "source": [
    "#!pip install delta-spark==1.2.1\n",
    "#!pyspark --version"
   ]
  },
  {
   "cell_type": "code",
   "execution_count": 3,
   "metadata": {},
   "outputs": [],
   "source": [
    "from pyspark.sql import SparkSession\n",
    "\n",
    "spark = (\n",
    "    SparkSession\n",
    "    .builder\n",
    "    .master('local[*]')\n",
    "    .appName('Quickstart DeltaLake')\n",
    "    .config('spark.jars.packages', 'io.delta:delta-core_2.12:1.2.1')\n",
    "    .config('spark.sql.extensions', 'io.delta.sql.DeltaSparkSessionExtension')\n",
    "    .config('spark.sql.catalog.spark_catalog', 'org.apache.spark.sql.delta.catalog.DeltaCatalog')\n",
    "    .getOrCreate()\n",
    ")"
   ]
  },
  {
   "cell_type": "code",
   "execution_count": 4,
   "metadata": {},
   "outputs": [],
   "source": [
    "sc = spark.sparkContext\n",
    "sc.setLogLevel('ERROR')"
   ]
  },
  {
   "cell_type": "code",
   "execution_count": 5,
   "metadata": {},
   "outputs": [
    {
     "name": "stderr",
     "output_type": "stream",
     "text": [
      "                                                                                \r"
     ]
    }
   ],
   "source": [
    "df = spark.read.format('json').load('../data/')"
   ]
  },
  {
   "cell_type": "code",
   "execution_count": 7,
   "metadata": {},
   "outputs": [
    {
     "data": {
      "text/plain": [
       "['user_id', 'email']"
      ]
     },
     "execution_count": 7,
     "metadata": {},
     "output_type": "execute_result"
    }
   ],
   "source": [
    "columns = ['user_id', 'email']\n",
    "df = df.select(columns)\n",
    "df.columns"
   ]
  },
  {
   "cell_type": "code",
   "execution_count": 8,
   "metadata": {},
   "outputs": [
    {
     "name": "stdout",
     "output_type": "stream",
     "text": [
      "-RECORD 0-------------------------\n",
      " user_id | 1703                   \n",
      " email   | daron.bailey@email.com \n",
      "only showing top 1 row\n",
      "\n"
     ]
    }
   ],
   "source": [
    "df.show(n=1, vertical=True, truncate=False)"
   ]
  },
  {
   "cell_type": "code",
   "execution_count": 9,
   "metadata": {},
   "outputs": [
    {
     "name": "stderr",
     "output_type": "stream",
     "text": [
      "                                                                                \r"
     ]
    }
   ],
   "source": [
    "if df.rdd.getNumPartitions() > 3:\n",
    "    df.coalesce(1).write.format('delta').mode('overwrite').save('../delta/bronze/user')\n",
    "else:\n",
    "    df.write.format('delta').mode('overwrite').save('../delta/bronze/user')"
   ]
  },
  {
   "cell_type": "code",
   "execution_count": 10,
   "metadata": {},
   "outputs": [
    {
     "name": "stdout",
     "output_type": "stream",
     "text": [
      "-RECORD 0-----------------------------------------------------------------------------\n",
      " version             | 0                                                              \n",
      " timestamp           | 2022-07-11 11:30:51.041                                        \n",
      " userId              | null                                                           \n",
      " userName            | null                                                           \n",
      " operation           | WRITE                                                          \n",
      " operationParameters | {mode -> Overwrite, partitionBy -> []}                         \n",
      " job                 | null                                                           \n",
      " notebook            | null                                                           \n",
      " clusterId           | null                                                           \n",
      " readVersion         | null                                                           \n",
      " isolationLevel      | Serializable                                                   \n",
      " isBlindAppend       | false                                                          \n",
      " operationMetrics    | {numFiles -> 1, numOutputRows -> 600, numOutputBytes -> 11422} \n",
      " userMetadata        | null                                                           \n",
      " engineInfo          | Apache-Spark/3.2.1 Delta-Lake/1.2.1                            \n",
      "\n"
     ]
    }
   ],
   "source": [
    "from delta.tables import DeltaTable\n",
    "\n",
    "DeltaTable.forPath(spark, '../delta/bronze/user').history(1).show(vertical=True, truncate=False)\n",
    "\n",
    "_ = DeltaTable.forPath(spark, '../delta/bronze/user').toDF()"
   ]
  },
  {
   "cell_type": "code",
   "execution_count": 11,
   "metadata": {},
   "outputs": [],
   "source": [
    "ids = '1703, 3650'"
   ]
  },
  {
   "cell_type": "code",
   "execution_count": 12,
   "metadata": {},
   "outputs": [
    {
     "name": "stderr",
     "output_type": "stream",
     "text": [
      "                                                                                \r"
     ]
    },
    {
     "name": "stdout",
     "output_type": "stream",
     "text": [
      "+-------+--------------------+\n",
      "|user_id|               email|\n",
      "+-------+--------------------+\n",
      "|   1703|daron.bailey@emai...|\n",
      "|   3650|jonah.barrows@ema...|\n",
      "+-------+--------------------+\n",
      "\n"
     ]
    }
   ],
   "source": [
    "_.where(f'user_id in ({ids})').show()"
   ]
  },
  {
   "cell_type": "code",
   "execution_count": 13,
   "metadata": {},
   "outputs": [
    {
     "data": {
      "text/plain": [
       "<delta.tables.DeltaTable at 0x103d0e460>"
      ]
     },
     "execution_count": 13,
     "metadata": {},
     "output_type": "execute_result"
    }
   ],
   "source": [
    "delta_object = DeltaTable.forPath(spark, '../delta/bronze/user')\n",
    "delta_object"
   ]
  },
  {
   "cell_type": "code",
   "execution_count": 14,
   "metadata": {},
   "outputs": [
    {
     "name": "stdout",
     "output_type": "stream",
     "text": [
      "+-------+----------------------+\n",
      "|user_id|email                 |\n",
      "+-------+----------------------+\n",
      "|1703   |daron.bailey@email.com|\n",
      "+-------+----------------------+\n",
      "\n"
     ]
    },
    {
     "data": {
      "text/plain": [
       "600"
      ]
     },
     "execution_count": 14,
     "metadata": {},
     "output_type": "execute_result"
    }
   ],
   "source": [
    "# before delete\n",
    "_.where('user_id == 1703').show(truncate=False)\n",
    "_.count()"
   ]
  },
  {
   "cell_type": "code",
   "execution_count": 15,
   "metadata": {},
   "outputs": [
    {
     "name": "stdout",
     "output_type": "stream",
     "text": [
      "+-------+\n",
      "|user_id|\n",
      "+-------+\n",
      "|   5385|\n",
      "|    720|\n",
      "|   8887|\n",
      "|   9952|\n",
      "|   7032|\n",
      "|   4161|\n",
      "|   2364|\n",
      "|   5099|\n",
      "|   2961|\n",
      "|   6762|\n",
      "|   3909|\n",
      "|    343|\n",
      "|   9000|\n",
      "|   9045|\n",
      "|   8222|\n",
      "|    402|\n",
      "|   1312|\n",
      "|   4746|\n",
      "|   3650|\n",
      "|   1805|\n",
      "+-------+\n",
      "only showing top 20 rows\n",
      "\n"
     ]
    }
   ],
   "source": [
    "df.select('user_id').distinct().show()"
   ]
  },
  {
   "cell_type": "code",
   "execution_count": 16,
   "metadata": {},
   "outputs": [],
   "source": [
    "ids_delete = '5385, 5099, 9000'\n"
   ]
  },
  {
   "cell_type": "code",
   "execution_count": 17,
   "metadata": {},
   "outputs": [
    {
     "name": "stderr",
     "output_type": "stream",
     "text": [
      "                                                                                \r"
     ]
    }
   ],
   "source": [
    "# delete\n",
    "delta_object.delete(condition=f'user_id in ({ids_delete})')"
   ]
  },
  {
   "cell_type": "code",
   "execution_count": 18,
   "metadata": {},
   "outputs": [
    {
     "data": {
      "text/plain": [
       "596"
      ]
     },
     "execution_count": 18,
     "metadata": {},
     "output_type": "execute_result"
    }
   ],
   "source": [
    "_.count()"
   ]
  },
  {
   "cell_type": "code",
   "execution_count": 19,
   "metadata": {},
   "outputs": [
    {
     "name": "stdout",
     "output_type": "stream",
     "text": [
      "+-------+--------------------+\n",
      "|user_id|               email|\n",
      "+-------+--------------------+\n",
      "|   1805|renee.hahn@email.com|\n",
      "+-------+--------------------+\n",
      "\n"
     ]
    }
   ],
   "source": [
    "_.where('user_id == 1805').show()"
   ]
  },
  {
   "cell_type": "code",
   "execution_count": 20,
   "metadata": {},
   "outputs": [
    {
     "name": "stderr",
     "output_type": "stream",
     "text": [
      "                                                                                \r"
     ]
    }
   ],
   "source": [
    "# update\n",
    "delta_object.update(\n",
    "    condition='email = \"renee.hahn@email.com\"',\n",
    "    set = { 'email': '\"carlos.barbosa@owshq.com\"'}\n",
    ")"
   ]
  },
  {
   "cell_type": "code",
   "execution_count": 21,
   "metadata": {},
   "outputs": [
    {
     "name": "stdout",
     "output_type": "stream",
     "text": [
      "+-------+------------------------+\n",
      "|user_id|email                   |\n",
      "+-------+------------------------+\n",
      "|1805   |carlos.barbosa@owshq.com|\n",
      "+-------+------------------------+\n",
      "\n"
     ]
    }
   ],
   "source": [
    "_.where('user_id == 1805').show(truncate=False)"
   ]
  },
  {
   "cell_type": "code",
   "execution_count": 22,
   "metadata": {},
   "outputs": [
    {
     "name": "stdout",
     "output_type": "stream",
     "text": [
      "+-------+--------------------+\n",
      "|user_id|               email|\n",
      "+-------+--------------------+\n",
      "|   1703|daron.bailey@emai...|\n",
      "|   3650|jonah.barrows@ema...|\n",
      "|   8809|carla.hansen@emai...|\n",
      "|   4606|tomas.ledner@emai...|\n",
      "|      1|alyse.ortiz@email...|\n",
      "|   9245|russell.kulas@ema...|\n",
      "|   3425|armida.lehner@ema...|\n",
      "|   4264|tad.sanford@email...|\n",
      "|   1668|rosia.jones@email...|\n",
      "|    343|candy.conroy@emai...|\n",
      "|   7393|dulcie.gottlieb@e...|\n",
      "|   3909|rodrigo.reynolds@...|\n",
      "|   9952|jenna.bode@email.com|\n",
      "|   2364|dan.herman@email.com|\n",
      "|   1611|stanley.witting@e...|\n",
      "|   1723|clarinda.kilback@...|\n",
      "|   7032|charley.carroll@e...|\n",
      "|    549|cameron.harris@em...|\n",
      "|   4161|reyes.stracke@ema...|\n",
      "|    503|jolynn.schulist@e...|\n",
      "+-------+--------------------+\n",
      "only showing top 20 rows\n",
      "\n"
     ]
    }
   ],
   "source": [
    "_.show()"
   ]
  },
  {
   "cell_type": "code",
   "execution_count": 23,
   "metadata": {},
   "outputs": [],
   "source": [
    "values = [(1703, 'luan.moreno@owshq.com'), (3650, 'mateus.oliveira@owshq.com')] \n",
    "cols   = _.columns"
   ]
  },
  {
   "cell_type": "code",
   "execution_count": 24,
   "metadata": {},
   "outputs": [
    {
     "data": {
      "text/plain": [
       "([(1703, 'luan.moreno@owshq.com'), (3650, 'mateus.oliveira@owshq.com')],\n",
       " ['user_id', 'email'])"
      ]
     },
     "execution_count": 24,
     "metadata": {},
     "output_type": "execute_result"
    }
   ],
   "source": [
    "values, cols"
   ]
  },
  {
   "cell_type": "code",
   "execution_count": 25,
   "metadata": {},
   "outputs": [
    {
     "name": "stdout",
     "output_type": "stream",
     "text": [
      "+-------+-------------------------+\n",
      "|user_id|email                    |\n",
      "+-------+-------------------------+\n",
      "|1703   |luan.moreno@owshq.com    |\n",
      "|3650   |mateus.oliveira@owshq.com|\n",
      "+-------+-------------------------+\n",
      "\n"
     ]
    }
   ],
   "source": [
    "new_data = spark.createDataFrame(values, cols)\n",
    "new_data.show(truncate=False)"
   ]
  },
  {
   "cell_type": "code",
   "execution_count": 26,
   "metadata": {},
   "outputs": [
    {
     "name": "stderr",
     "output_type": "stream",
     "text": [
      "                                                                                \r"
     ]
    }
   ],
   "source": [
    "# upserts\n",
    "(\n",
    "    delta_object.alias('old_data')\n",
    "        .merge(\n",
    "            new_data.alias('new_data'), condition = 'old_data.user_id = new_data.user_id'\n",
    "        )\n",
    "        .whenMatchedUpdateAll(\n",
    "            condition = 'old_data.user_id = new_data.user_id'\n",
    "        )\n",
    "        .whenNotMatchedInsertAll()\n",
    "    .execute()\n",
    ")"
   ]
  },
  {
   "cell_type": "code",
   "execution_count": 27,
   "metadata": {},
   "outputs": [
    {
     "name": "stdout",
     "output_type": "stream",
     "text": [
      "+-------+-------------------------+\n",
      "|user_id|email                    |\n",
      "+-------+-------------------------+\n",
      "|1703   |luan.moreno@owshq.com    |\n",
      "|3650   |mateus.oliveira@owshq.com|\n",
      "+-------+-------------------------+\n",
      "\n"
     ]
    }
   ],
   "source": [
    "ids_update = '1703, 3650'\n",
    "_.where(f'user_id in ({ids_update})').show(truncate=False)"
   ]
  },
  {
   "cell_type": "code",
   "execution_count": 28,
   "metadata": {},
   "outputs": [
    {
     "data": {
      "text/plain": [
       "596"
      ]
     },
     "execution_count": 28,
     "metadata": {},
     "output_type": "execute_result"
    }
   ],
   "source": [
    "_.count()"
   ]
  },
  {
   "cell_type": "code",
   "execution_count": 29,
   "metadata": {},
   "outputs": [
    {
     "name": "stdout",
     "output_type": "stream",
     "text": [
      "-RECORD 0-------------------------------------------------------------------------------------------------------------------------------------------------------------------------------------------------------------------------------------------------------------------------------------------------\n",
      " version             | 3                                                                                                                                                                                                                                                                                  \n",
      " timestamp           | 2022-07-11 11:31:28.299                                                                                                                                                                                                                                                            \n",
      " userId              | null                                                                                                                                                                                                                                                                               \n",
      " userName            | null                                                                                                                                                                                                                                                                               \n",
      " operation           | MERGE                                                                                                                                                                                                                                                                              \n",
      " operationParameters | {predicate -> (old_data.user_id = new_data.user_id), matchedPredicates -> [{\"predicate\":\"(old_data.user_id = new_data.user_id)\",\"actionType\":\"update\"}], notMatchedPredicates -> [{\"actionType\":\"insert\"}]}                                                                        \n",
      " job                 | null                                                                                                                                                                                                                                                                               \n",
      " notebook            | null                                                                                                                                                                                                                                                                               \n",
      " clusterId           | null                                                                                                                                                                                                                                                                               \n",
      " readVersion         | 2                                                                                                                                                                                                                                                                                  \n",
      " isolationLevel      | Serializable                                                                                                                                                                                                                                                                       \n",
      " isBlindAppend       | false                                                                                                                                                                                                                                                                              \n",
      " operationMetrics    | {numTargetRowsCopied -> 594, numTargetRowsDeleted -> 0, numTargetFilesAdded -> 1, executionTimeMs -> 3945, numTargetRowsInserted -> 0, scanTimeMs -> 2424, numTargetRowsUpdated -> 2, numOutputRows -> 596, numSourceRows -> 2, numTargetFilesRemoved -> 1, rewriteTimeMs -> 1500} \n",
      " userMetadata        | null                                                                                                                                                                                                                                                                               \n",
      " engineInfo          | Apache-Spark/3.2.1 Delta-Lake/1.2.1                                                                                                                                                                                                                                                \n",
      "-RECORD 1-------------------------------------------------------------------------------------------------------------------------------------------------------------------------------------------------------------------------------------------------------------------------------------------------\n",
      " version             | 2                                                                                                                                                                                                                                                                                  \n",
      " timestamp           | 2022-07-11 11:31:20.207                                                                                                                                                                                                                                                            \n",
      " userId              | null                                                                                                                                                                                                                                                                               \n",
      " userName            | null                                                                                                                                                                                                                                                                               \n",
      " operation           | UPDATE                                                                                                                                                                                                                                                                             \n",
      " operationParameters | {predicate -> (email#1028 = renee.hahn@email.com)}                                                                                                                                                                                                                                 \n",
      " job                 | null                                                                                                                                                                                                                                                                               \n",
      " notebook            | null                                                                                                                                                                                                                                                                               \n",
      " clusterId           | null                                                                                                                                                                                                                                                                               \n",
      " readVersion         | 1                                                                                                                                                                                                                                                                                  \n",
      " isolationLevel      | Serializable                                                                                                                                                                                                                                                                       \n",
      " isBlindAppend       | false                                                                                                                                                                                                                                                                              \n",
      " operationMetrics    | {numRemovedFiles -> 1, numCopiedRows -> 595, executionTimeMs -> 1462, scanTimeMs -> 912, numAddedFiles -> 1, numUpdatedRows -> 1, rewriteTimeMs -> 550}                                                                                                                            \n",
      " userMetadata        | null                                                                                                                                                                                                                                                                               \n",
      " engineInfo          | Apache-Spark/3.2.1 Delta-Lake/1.2.1                                                                                                                                                                                                                                                \n",
      "-RECORD 2-------------------------------------------------------------------------------------------------------------------------------------------------------------------------------------------------------------------------------------------------------------------------------------------------\n",
      " version             | 1                                                                                                                                                                                                                                                                                  \n",
      " timestamp           | 2022-07-11 11:31:14.803                                                                                                                                                                                                                                                            \n",
      " userId              | null                                                                                                                                                                                                                                                                               \n",
      " userName            | null                                                                                                                                                                                                                                                                               \n",
      " operation           | DELETE                                                                                                                                                                                                                                                                             \n",
      " operationParameters | {predicate -> [\"(user_id IN (5385L, 5099L, 9000L))\"]}                                                                                                                                                                                                                              \n",
      " job                 | null                                                                                                                                                                                                                                                                               \n",
      " notebook            | null                                                                                                                                                                                                                                                                               \n",
      " clusterId           | null                                                                                                                                                                                                                                                                               \n",
      " readVersion         | 0                                                                                                                                                                                                                                                                                  \n",
      " isolationLevel      | Serializable                                                                                                                                                                                                                                                                       \n",
      " isBlindAppend       | false                                                                                                                                                                                                                                                                              \n",
      " operationMetrics    | {numRemovedFiles -> 1, numCopiedRows -> 596, executionTimeMs -> 1643, numDeletedRows -> 4, scanTimeMs -> 1149, numAddedFiles -> 1, rewriteTimeMs -> 488}                                                                                                                           \n",
      " userMetadata        | null                                                                                                                                                                                                                                                                               \n",
      " engineInfo          | Apache-Spark/3.2.1 Delta-Lake/1.2.1                                                                                                                                                                                                                                                \n",
      "-RECORD 3-------------------------------------------------------------------------------------------------------------------------------------------------------------------------------------------------------------------------------------------------------------------------------------------------\n",
      " version             | 0                                                                                                                                                                                                                                                                                  \n",
      " timestamp           | 2022-07-11 11:30:51.041                                                                                                                                                                                                                                                            \n",
      " userId              | null                                                                                                                                                                                                                                                                               \n",
      " userName            | null                                                                                                                                                                                                                                                                               \n",
      " operation           | WRITE                                                                                                                                                                                                                                                                              \n",
      " operationParameters | {mode -> Overwrite, partitionBy -> []}                                                                                                                                                                                                                                             \n",
      " job                 | null                                                                                                                                                                                                                                                                               \n",
      " notebook            | null                                                                                                                                                                                                                                                                               \n",
      " clusterId           | null                                                                                                                                                                                                                                                                               \n",
      " readVersion         | null                                                                                                                                                                                                                                                                               \n",
      " isolationLevel      | Serializable                                                                                                                                                                                                                                                                       \n",
      " isBlindAppend       | false                                                                                                                                                                                                                                                                              \n",
      " operationMetrics    | {numFiles -> 1, numOutputRows -> 600, numOutputBytes -> 11422}                                                                                                                                                                                                                     \n",
      " userMetadata        | null                                                                                                                                                                                                                                                                               \n",
      " engineInfo          | Apache-Spark/3.2.1 Delta-Lake/1.2.1                                                                                                                                                                                                                                                \n",
      "\n"
     ]
    }
   ],
   "source": [
    "delta_object.history().show(truncate=False, vertical=True)"
   ]
  },
  {
   "cell_type": "code",
   "execution_count": 30,
   "metadata": {},
   "outputs": [
    {
     "name": "stdout",
     "output_type": "stream",
     "text": [
      "+-------+-----------------------+---------+\n",
      "|version|timestamp              |operation|\n",
      "+-------+-----------------------+---------+\n",
      "|3      |2022-07-11 11:31:28.299|MERGE    |\n",
      "|2      |2022-07-11 11:31:20.207|UPDATE   |\n",
      "|1      |2022-07-11 11:31:14.803|DELETE   |\n",
      "|0      |2022-07-11 11:30:51.041|WRITE    |\n",
      "+-------+-----------------------+---------+\n",
      "\n"
     ]
    }
   ],
   "source": [
    "cols_history = ['version', 'timestamp', 'operation']\n",
    "delta_object.history().select(cols_history).show(truncate=False)"
   ]
  },
  {
   "cell_type": "code",
   "execution_count": 31,
   "metadata": {},
   "outputs": [
    {
     "name": "stdout",
     "output_type": "stream",
     "text": [
      "+-------+--------------------+\n",
      "|user_id|               email|\n",
      "+-------+--------------------+\n",
      "|   1703|daron.bailey@emai...|\n",
      "|   3650|jonah.barrows@ema...|\n",
      "|   8809|carla.hansen@emai...|\n",
      "|   4606|tomas.ledner@emai...|\n",
      "|      1|alyse.ortiz@email...|\n",
      "|   9245|russell.kulas@ema...|\n",
      "|   3425|armida.lehner@ema...|\n",
      "|   4264|tad.sanford@email...|\n",
      "|   1668|rosia.jones@email...|\n",
      "|    343|candy.conroy@emai...|\n",
      "|   7393|dulcie.gottlieb@e...|\n",
      "|   3909|rodrigo.reynolds@...|\n",
      "|   9952|jenna.bode@email.com|\n",
      "|   2364|dan.herman@email.com|\n",
      "|   1611|stanley.witting@e...|\n",
      "|   1723|clarinda.kilback@...|\n",
      "|   7032|charley.carroll@e...|\n",
      "|    549|cameron.harris@em...|\n",
      "|   4161|reyes.stracke@ema...|\n",
      "|    503|jolynn.schulist@e...|\n",
      "+-------+--------------------+\n",
      "only showing top 20 rows\n",
      "\n"
     ]
    },
    {
     "data": {
      "text/plain": [
       "600"
      ]
     },
     "execution_count": 31,
     "metadata": {},
     "output_type": "execute_result"
    }
   ],
   "source": [
    "# time travel per version\n",
    "time_travel_version_0 = (\n",
    "    spark\n",
    "        .read\n",
    "        .format('delta')\n",
    "        .option('versionAsOf', '0')\n",
    "        .load('../delta/bronze/user/')\n",
    ")\n",
    "\n",
    "time_travel_version_0.show()\n",
    "time_travel_version_0.count()"
   ]
  },
  {
   "cell_type": "code",
   "execution_count": 33,
   "metadata": {},
   "outputs": [],
   "source": [
    "# time travel per timestamp\n",
    "time_travel_timestamp = (\n",
    "    spark\n",
    "        .read\n",
    "        .format('delta')\n",
    "        .option('timestampAsOf', '2022-07-05 17:43:43.85')\n",
    "        .load('../delta/bronze/user/')\n",
    ")\n",
    "\n",
    "time_travel_timestamp.where(f'user_id in ({ids_update})').show(truncate=False)\n",
    "time_travel_timestamp.count()"
   ]
  },
  {
   "cell_type": "code",
   "execution_count": null,
   "metadata": {},
   "outputs": [
    {
     "name": "stdout",
     "output_type": "stream",
     "text": [
      "+-------+-------------------------+\n",
      "|user_id|email                    |\n",
      "+-------+-------------------------+\n",
      "|9000   |josefa.herman@email.com  |\n",
      "|3650   |jonah.barrows@email.com  |\n",
      "|9000   |herschel.turner@email.com|\n",
      "|5099   |chang.senger@email.com   |\n",
      "|1703   |daron.bailey@email.com   |\n",
      "|5385   |winston.kirlin@email.com |\n",
      "|1805   |renee.hahn@email.com     |\n",
      "+-------+-------------------------+\n",
      "\n"
     ]
    }
   ],
   "source": [
    "# verify changes beetween to versions delta\n",
    "time_travel_version_0.exceptAll(time_travel_timestamp).show(truncate=False)"
   ]
  },
  {
   "cell_type": "code",
   "execution_count": 35,
   "metadata": {},
   "outputs": [
    {
     "name": "stdout",
     "output_type": "stream",
     "text": [
      "root\n",
      " |-- user_id: long (nullable = true)\n",
      " |-- email: string (nullable = true)\n",
      " |-- gender: string (nullable = true)\n",
      "\n"
     ]
    }
   ],
   "source": [
    "# evolution schema\n",
    "df = spark.read.format('json').load('../data/')\n",
    "\n",
    "columns = ['user_id', 'email', 'gender']\n",
    "df = df.select(columns)\n",
    "df.printSchema()"
   ]
  },
  {
   "cell_type": "code",
   "execution_count": 36,
   "metadata": {},
   "outputs": [],
   "source": [
    "df.write.format('delta').mode('overwrite').option('mergeSchema', True).save('../delta/bronze/user') # mergeSchema / overwriteSchema"
   ]
  },
  {
   "cell_type": "code",
   "execution_count": 37,
   "metadata": {},
   "outputs": [
    {
     "name": "stdout",
     "output_type": "stream",
     "text": [
      "-RECORD 0-----------------------------------------------------------------------------\n",
      " version             | 4                                                              \n",
      " timestamp           | 2022-07-11 11:33:30.445                                        \n",
      " userId              | null                                                           \n",
      " userName            | null                                                           \n",
      " operation           | WRITE                                                          \n",
      " operationParameters | {mode -> Overwrite, partitionBy -> []}                         \n",
      " job                 | null                                                           \n",
      " notebook            | null                                                           \n",
      " clusterId           | null                                                           \n",
      " readVersion         | 3                                                              \n",
      " isolationLevel      | Serializable                                                   \n",
      " isBlindAppend       | false                                                          \n",
      " operationMetrics    | {numFiles -> 6, numOutputRows -> 600, numOutputBytes -> 19736} \n",
      " userMetadata        | null                                                           \n",
      " engineInfo          | Apache-Spark/3.2.1 Delta-Lake/1.2.1                            \n",
      "\n"
     ]
    }
   ],
   "source": [
    "delta_object.history(1).show(vertical=True, truncate=False)"
   ]
  },
  {
   "cell_type": "code",
   "execution_count": 38,
   "metadata": {},
   "outputs": [
    {
     "name": "stdout",
     "output_type": "stream",
     "text": [
      "+-------+--------------------+\n",
      "|user_id|               email|\n",
      "+-------+--------------------+\n",
      "|   3395|marcos.collier@em...|\n",
      "|   1556|elina.hills@email...|\n",
      "|   1879|enedina.schroeder...|\n",
      "|   7805|colin.ryan@email.com|\n",
      "|   3982|dallas.boyle@emai...|\n",
      "|   7274|grover.towne@emai...|\n",
      "|   3184|dexter.schmitt@em...|\n",
      "|    550|novella.weber@ema...|\n",
      "|   8365|lesley.mccullough...|\n",
      "|   4942|marti.marks@email...|\n",
      "|   8327|shawnna.keebler@e...|\n",
      "|   9464|guillermo.beahan@...|\n",
      "|   4123|sid.bechtelar@ema...|\n",
      "|   2281|merrill.upton@ema...|\n",
      "|   6998|felipe.ward@email...|\n",
      "|   7440|willie.walsh@emai...|\n",
      "|   8397|jae.krajcik@email...|\n",
      "|   9437|wilfredo.bailey@e...|\n",
      "|   3148|josefa.marvin@ema...|\n",
      "|   2535|loyd.hintz@email.com|\n",
      "+-------+--------------------+\n",
      "only showing top 20 rows\n",
      "\n"
     ]
    }
   ],
   "source": [
    "_.show()"
   ]
  },
  {
   "cell_type": "code",
   "execution_count": 39,
   "metadata": {},
   "outputs": [],
   "source": [
    "delta_object.generate('symlink_format_manifest')"
   ]
  },
  {
   "cell_type": "code",
   "execution_count": 40,
   "metadata": {},
   "outputs": [],
   "source": [
    "df.coalesce(1).write.format('delta').mode('overwrite').save('../delta/bronze/user')"
   ]
  },
  {
   "cell_type": "code",
   "execution_count": 41,
   "metadata": {},
   "outputs": [],
   "source": [
    "df.coalesce(1).write.format('parquet').mode('overwrite').save('../parquet/user')"
   ]
  },
  {
   "cell_type": "code",
   "execution_count": 42,
   "metadata": {},
   "outputs": [
    {
     "data": {
      "text/plain": [
       "<delta.tables.DeltaTable at 0x103fcfa60>"
      ]
     },
     "execution_count": 42,
     "metadata": {},
     "output_type": "execute_result"
    }
   ],
   "source": [
    "# migrate data lake parquet to delta\n",
    "delta_object.convertToDelta(spark, 'parquet.`../parquet/user/`')"
   ]
  },
  {
   "cell_type": "code",
   "execution_count": 43,
   "metadata": {},
   "outputs": [
    {
     "name": "stdout",
     "output_type": "stream",
     "text": [
      "-RECORD 0-----------------------------------------------------------------------------\n",
      " version             | 5                                                              \n",
      " timestamp           | 2022-07-11 11:33:49.611                                        \n",
      " userId              | null                                                           \n",
      " userName            | null                                                           \n",
      " operation           | WRITE                                                          \n",
      " operationParameters | {mode -> Overwrite, partitionBy -> []}                         \n",
      " job                 | null                                                           \n",
      " notebook            | null                                                           \n",
      " clusterId           | null                                                           \n",
      " readVersion         | 4                                                              \n",
      " isolationLevel      | Serializable                                                   \n",
      " isBlindAppend       | false                                                          \n",
      " operationMetrics    | {numFiles -> 1, numOutputRows -> 600, numOutputBytes -> 12019} \n",
      " userMetadata        | null                                                           \n",
      " engineInfo          | Apache-Spark/3.2.1 Delta-Lake/1.2.1                            \n",
      "\n"
     ]
    }
   ],
   "source": [
    "delta_object.history(1).show(truncate=False, vertical=True)"
   ]
  }
 ],
 "metadata": {
  "kernelspec": {
   "display_name": "Python 3.9.13 64-bit",
   "language": "python",
   "name": "python3"
  },
  "language_info": {
   "codemirror_mode": {
    "name": "ipython",
    "version": 3
   },
   "file_extension": ".py",
   "mimetype": "text/x-python",
   "name": "python",
   "nbconvert_exporter": "python",
   "pygments_lexer": "ipython3",
   "version": "3.9.13"
  },
  "orig_nbformat": 4,
  "vscode": {
   "interpreter": {
    "hash": "8b4f5f55bb750d135440655846008a46e73b7c47dadaa9c8c62811f542e35564"
   }
  }
 },
 "nbformat": 4,
 "nbformat_minor": 2
}
