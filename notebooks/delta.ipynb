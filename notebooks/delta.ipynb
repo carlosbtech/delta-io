{
 "cells": [
  {
   "cell_type": "code",
   "execution_count": 46,
   "metadata": {},
   "outputs": [],
   "source": [
    "#!pip install delta-spark==1.2.1\n",
    "#!pyspark --version"
   ]
  },
  {
   "cell_type": "code",
   "execution_count": 47,
   "metadata": {},
   "outputs": [],
   "source": [
    "from pyspark.sql import SparkSession\n",
    "\n",
    "spark = (\n",
    "    SparkSession\n",
    "    .builder\n",
    "    .master('local[*]')\n",
    "    .appName('Quickstart DeltaLake')\n",
    "    .config('spark.jars.packages', 'io.delta:delta-core_2.12:1.2.1')\n",
    "    .config('spark.sql.extensions', 'io.delta.sql.DeltaSparkSessionExtension')\n",
    "    .config('spark.sql.catalog.spark_catalog', 'org.apache.spark.sql.delta.catalog.DeltaCatalog')\n",
    "    .getOrCreate()\n",
    ")"
   ]
  },
  {
   "cell_type": "code",
   "execution_count": 48,
   "metadata": {},
   "outputs": [],
   "source": [
    "sc = spark.sparkContext\n",
    "sc.setLogLevel('ERROR')"
   ]
  },
  {
   "cell_type": "code",
   "execution_count": 49,
   "metadata": {},
   "outputs": [],
   "source": [
    "df = spark.read.format('json').load('../data/')"
   ]
  },
  {
   "cell_type": "code",
   "execution_count": 50,
   "metadata": {},
   "outputs": [
    {
     "data": {
      "text/plain": [
       "['user_id', 'email']"
      ]
     },
     "execution_count": 50,
     "metadata": {},
     "output_type": "execute_result"
    }
   ],
   "source": [
    "columns = ['user_id', 'email']\n",
    "df = df.select(columns)\n",
    "df.columns"
   ]
  },
  {
   "cell_type": "code",
   "execution_count": 51,
   "metadata": {},
   "outputs": [
    {
     "name": "stdout",
     "output_type": "stream",
     "text": [
      "-RECORD 0-------------------------\n",
      " user_id | 1703                   \n",
      " email   | daron.bailey@email.com \n",
      "only showing top 1 row\n",
      "\n"
     ]
    }
   ],
   "source": [
    "df.show(n=1, vertical=True, truncate=False)"
   ]
  },
  {
   "cell_type": "code",
   "execution_count": 52,
   "metadata": {},
   "outputs": [
    {
     "name": "stderr",
     "output_type": "stream",
     "text": [
      "                                                                                \r"
     ]
    }
   ],
   "source": [
    "if df.rdd.getNumPartitions() > 3:\n",
    "    df.coalesce(1).write.format('delta').mode('overwrite').save('../delta/bronze/user')\n",
    "else:\n",
    "    df.write.format('delta').mode('overwrite').save('../delta/bronze/user')"
   ]
  },
  {
   "cell_type": "code",
   "execution_count": 53,
   "metadata": {},
   "outputs": [
    {
     "name": "stdout",
     "output_type": "stream",
     "text": [
      "-RECORD 0-----------------------------------------------------------------------------\n",
      " version             | 0                                                              \n",
      " timestamp           | 2022-07-11 13:29:02.304                                        \n",
      " userId              | null                                                           \n",
      " userName            | null                                                           \n",
      " operation           | WRITE                                                          \n",
      " operationParameters | {mode -> Overwrite, partitionBy -> []}                         \n",
      " job                 | null                                                           \n",
      " notebook            | null                                                           \n",
      " clusterId           | null                                                           \n",
      " readVersion         | null                                                           \n",
      " isolationLevel      | Serializable                                                   \n",
      " isBlindAppend       | false                                                          \n",
      " operationMetrics    | {numFiles -> 1, numOutputRows -> 600, numOutputBytes -> 11422} \n",
      " userMetadata        | null                                                           \n",
      " engineInfo          | Apache-Spark/3.2.1 Delta-Lake/1.2.1                            \n",
      "\n"
     ]
    }
   ],
   "source": [
    "from delta.tables import DeltaTable\n",
    "\n",
    "DeltaTable.forPath(spark, '../delta/bronze/user').history(1).show(vertical=True, truncate=False)\n",
    "\n",
    "_ = DeltaTable.forPath(spark, '../delta/bronze/user').toDF()"
   ]
  },
  {
   "cell_type": "code",
   "execution_count": 54,
   "metadata": {},
   "outputs": [],
   "source": [
    "ids = '1703, 3650'"
   ]
  },
  {
   "cell_type": "code",
   "execution_count": 55,
   "metadata": {},
   "outputs": [
    {
     "name": "stdout",
     "output_type": "stream",
     "text": [
      "+-------+--------------------+\n",
      "|user_id|               email|\n",
      "+-------+--------------------+\n",
      "|   1703|daron.bailey@emai...|\n",
      "|   3650|jonah.barrows@ema...|\n",
      "+-------+--------------------+\n",
      "\n"
     ]
    }
   ],
   "source": [
    "_.where(f'user_id in ({ids})').show()"
   ]
  },
  {
   "cell_type": "code",
   "execution_count": 56,
   "metadata": {},
   "outputs": [
    {
     "data": {
      "text/plain": [
       "<delta.tables.DeltaTable at 0x108df7580>"
      ]
     },
     "execution_count": 56,
     "metadata": {},
     "output_type": "execute_result"
    }
   ],
   "source": [
    "delta_object = DeltaTable.forPath(spark, '../delta/bronze/user')\n",
    "delta_object"
   ]
  },
  {
   "cell_type": "code",
   "execution_count": 57,
   "metadata": {},
   "outputs": [
    {
     "name": "stdout",
     "output_type": "stream",
     "text": [
      "+-------+----------------------+\n",
      "|user_id|email                 |\n",
      "+-------+----------------------+\n",
      "|1703   |daron.bailey@email.com|\n",
      "+-------+----------------------+\n",
      "\n"
     ]
    },
    {
     "data": {
      "text/plain": [
       "600"
      ]
     },
     "execution_count": 57,
     "metadata": {},
     "output_type": "execute_result"
    }
   ],
   "source": [
    "# before delete\n",
    "_.where('user_id == 1703').show(truncate=False)\n",
    "_.count()"
   ]
  },
  {
   "cell_type": "code",
   "execution_count": 58,
   "metadata": {},
   "outputs": [
    {
     "name": "stdout",
     "output_type": "stream",
     "text": [
      "+-------+\n",
      "|user_id|\n",
      "+-------+\n",
      "|   5385|\n",
      "|    720|\n",
      "|   8887|\n",
      "|   9952|\n",
      "|   7032|\n",
      "|   4161|\n",
      "|   2364|\n",
      "|   5099|\n",
      "|   2961|\n",
      "|   6762|\n",
      "|   3909|\n",
      "|    343|\n",
      "|   9000|\n",
      "|   9045|\n",
      "|   8222|\n",
      "|    402|\n",
      "|   1312|\n",
      "|   4746|\n",
      "|   3650|\n",
      "|   1805|\n",
      "+-------+\n",
      "only showing top 20 rows\n",
      "\n"
     ]
    }
   ],
   "source": [
    "df.select('user_id').distinct().show()"
   ]
  },
  {
   "cell_type": "code",
   "execution_count": 59,
   "metadata": {},
   "outputs": [
    {
     "name": "stdout",
     "output_type": "stream",
     "text": [
      "+-------+--------------------+\n",
      "|user_id|               email|\n",
      "+-------+--------------------+\n",
      "|   5099|chang.senger@emai...|\n",
      "|    402|lynetta.zulauf@em...|\n",
      "|   5385|winston.kirlin@em...|\n",
      "+-------+--------------------+\n",
      "\n"
     ]
    }
   ],
   "source": [
    "ids_delete = '5385, 5099, 402'\n",
    "df.where(f'user_id in ({ids_delete})').show()\n"
   ]
  },
  {
   "cell_type": "code",
   "execution_count": 60,
   "metadata": {},
   "outputs": [
    {
     "data": {
      "text/plain": [
       "600"
      ]
     },
     "execution_count": 60,
     "metadata": {},
     "output_type": "execute_result"
    }
   ],
   "source": [
    "# after delete\n",
    "_.count()"
   ]
  },
  {
   "cell_type": "code",
   "execution_count": 61,
   "metadata": {},
   "outputs": [
    {
     "name": "stdout",
     "output_type": "stream",
     "text": [
      "+-------+--------------------+\n",
      "|user_id|               email|\n",
      "+-------+--------------------+\n",
      "|   1805|renee.hahn@email.com|\n",
      "+-------+--------------------+\n",
      "\n"
     ]
    }
   ],
   "source": [
    "_.where('user_id == 1805').show()"
   ]
  },
  {
   "cell_type": "code",
   "execution_count": 62,
   "metadata": {},
   "outputs": [],
   "source": [
    "# update\n",
    "delta_object.update(\n",
    "    condition='email = \"renee.hahn@email.com\"',\n",
    "    set = { 'email': '\"jack.sparrow@pirates.com\"'}\n",
    ")"
   ]
  },
  {
   "cell_type": "code",
   "execution_count": 63,
   "metadata": {},
   "outputs": [
    {
     "name": "stdout",
     "output_type": "stream",
     "text": [
      "+-------+------------------------+\n",
      "|user_id|email                   |\n",
      "+-------+------------------------+\n",
      "|1805   |jack.sparrow@pirates.com|\n",
      "+-------+------------------------+\n",
      "\n"
     ]
    }
   ],
   "source": [
    "_.where('user_id == 1805').show(truncate=False)"
   ]
  },
  {
   "cell_type": "code",
   "execution_count": 64,
   "metadata": {},
   "outputs": [
    {
     "name": "stdout",
     "output_type": "stream",
     "text": [
      "+-------+--------------------+\n",
      "|user_id|               email|\n",
      "+-------+--------------------+\n",
      "|   1703|daron.bailey@emai...|\n",
      "|   3650|jonah.barrows@ema...|\n",
      "|   8809|carla.hansen@emai...|\n",
      "|   4606|tomas.ledner@emai...|\n",
      "|      1|alyse.ortiz@email...|\n",
      "|   9245|russell.kulas@ema...|\n",
      "|   3425|armida.lehner@ema...|\n",
      "|   4264|tad.sanford@email...|\n",
      "|   1668|rosia.jones@email...|\n",
      "|    343|candy.conroy@emai...|\n",
      "|   7393|dulcie.gottlieb@e...|\n",
      "|   3909|rodrigo.reynolds@...|\n",
      "|   9952|jenna.bode@email.com|\n",
      "|   2364|dan.herman@email.com|\n",
      "|   1611|stanley.witting@e...|\n",
      "|   1723|clarinda.kilback@...|\n",
      "|   7032|charley.carroll@e...|\n",
      "|    549|cameron.harris@em...|\n",
      "|   4161|reyes.stracke@ema...|\n",
      "|    503|jolynn.schulist@e...|\n",
      "+-------+--------------------+\n",
      "only showing top 20 rows\n",
      "\n"
     ]
    }
   ],
   "source": [
    "_.show()"
   ]
  },
  {
   "cell_type": "code",
   "execution_count": 65,
   "metadata": {},
   "outputs": [],
   "source": [
    "values = [(1703, 'sheldon.cooper@thebigbang.com'), (3650, 'rajesh.koothrappali@thebigbang.com')] \n",
    "cols   = ['user_id', 'email']"
   ]
  },
  {
   "cell_type": "code",
   "execution_count": 66,
   "metadata": {},
   "outputs": [
    {
     "data": {
      "text/plain": [
       "([(1703, 'sheldon.cooper@thebigbang.com'),\n",
       "  (3650, 'rajesh.koothrappali@thebigbang.com')],\n",
       " ['user_id', 'email'])"
      ]
     },
     "execution_count": 66,
     "metadata": {},
     "output_type": "execute_result"
    }
   ],
   "source": [
    "values, cols"
   ]
  },
  {
   "cell_type": "code",
   "execution_count": 67,
   "metadata": {},
   "outputs": [
    {
     "name": "stdout",
     "output_type": "stream",
     "text": [
      "+-------+----------------------------------+\n",
      "|user_id|email                             |\n",
      "+-------+----------------------------------+\n",
      "|1703   |sheldon.cooper@thebigbang.com     |\n",
      "|3650   |rajesh.koothrappali@thebigbang.com|\n",
      "+-------+----------------------------------+\n",
      "\n"
     ]
    }
   ],
   "source": [
    "new_data = spark.createDataFrame(values, cols)\n",
    "new_data.show(truncate=False)"
   ]
  },
  {
   "cell_type": "code",
   "execution_count": 68,
   "metadata": {},
   "outputs": [
    {
     "name": "stderr",
     "output_type": "stream",
     "text": [
      "                                                                                \r"
     ]
    }
   ],
   "source": [
    "# upserts\n",
    "(\n",
    "    delta_object.alias('old_data')\n",
    "        .merge(\n",
    "            new_data.alias('new_data'), condition = 'old_data.user_id = new_data.user_id'\n",
    "        )\n",
    "        .whenMatchedUpdateAll(\n",
    "            condition = 'old_data.user_id = new_data.user_id'\n",
    "        )\n",
    "        .whenNotMatchedInsertAll()\n",
    "    .execute()\n",
    ")"
   ]
  },
  {
   "cell_type": "code",
   "execution_count": 69,
   "metadata": {},
   "outputs": [
    {
     "name": "stdout",
     "output_type": "stream",
     "text": [
      "+-------+----------------------------------+\n",
      "|user_id|email                             |\n",
      "+-------+----------------------------------+\n",
      "|1703   |sheldon.cooper@thebigbang.com     |\n",
      "|3650   |rajesh.koothrappali@thebigbang.com|\n",
      "+-------+----------------------------------+\n",
      "\n"
     ]
    }
   ],
   "source": [
    "ids_update = '1703, 3650'\n",
    "_.where(f'user_id in ({ids_update})').show(truncate=False)"
   ]
  },
  {
   "cell_type": "code",
   "execution_count": 70,
   "metadata": {},
   "outputs": [
    {
     "data": {
      "text/plain": [
       "600"
      ]
     },
     "execution_count": 70,
     "metadata": {},
     "output_type": "execute_result"
    }
   ],
   "source": [
    "_.count()"
   ]
  },
  {
   "cell_type": "code",
   "execution_count": 71,
   "metadata": {},
   "outputs": [
    {
     "name": "stdout",
     "output_type": "stream",
     "text": [
      "-RECORD 0-------------------------------------------------------------------------------------------------------------------------------------------------------------------------------------------------------------------------------------------------------------------------------------------------\n",
      " version             | 2                                                                                                                                                                                                                                                                                  \n",
      " timestamp           | 2022-07-11 13:29:16.574                                                                                                                                                                                                                                                            \n",
      " userId              | null                                                                                                                                                                                                                                                                               \n",
      " userName            | null                                                                                                                                                                                                                                                                               \n",
      " operation           | MERGE                                                                                                                                                                                                                                                                              \n",
      " operationParameters | {predicate -> (old_data.user_id = new_data.user_id), matchedPredicates -> [{\"predicate\":\"(old_data.user_id = new_data.user_id)\",\"actionType\":\"update\"}], notMatchedPredicates -> [{\"actionType\":\"insert\"}]}                                                                        \n",
      " job                 | null                                                                                                                                                                                                                                                                               \n",
      " notebook            | null                                                                                                                                                                                                                                                                               \n",
      " clusterId           | null                                                                                                                                                                                                                                                                               \n",
      " readVersion         | 1                                                                                                                                                                                                                                                                                  \n",
      " isolationLevel      | Serializable                                                                                                                                                                                                                                                                       \n",
      " isBlindAppend       | false                                                                                                                                                                                                                                                                              \n",
      " operationMetrics    | {numTargetRowsCopied -> 598, numTargetRowsDeleted -> 0, numTargetFilesAdded -> 1, executionTimeMs -> 3730, numTargetRowsInserted -> 0, scanTimeMs -> 2138, numTargetRowsUpdated -> 2, numOutputRows -> 600, numSourceRows -> 2, numTargetFilesRemoved -> 1, rewriteTimeMs -> 1584} \n",
      " userMetadata        | null                                                                                                                                                                                                                                                                               \n",
      " engineInfo          | Apache-Spark/3.2.1 Delta-Lake/1.2.1                                                                                                                                                                                                                                                \n",
      "-RECORD 1-------------------------------------------------------------------------------------------------------------------------------------------------------------------------------------------------------------------------------------------------------------------------------------------------\n",
      " version             | 1                                                                                                                                                                                                                                                                                  \n",
      " timestamp           | 2022-07-11 13:29:09.952                                                                                                                                                                                                                                                            \n",
      " userId              | null                                                                                                                                                                                                                                                                               \n",
      " userName            | null                                                                                                                                                                                                                                                                               \n",
      " operation           | UPDATE                                                                                                                                                                                                                                                                             \n",
      " operationParameters | {predicate -> (email#7052 = renee.hahn@email.com)}                                                                                                                                                                                                                                 \n",
      " job                 | null                                                                                                                                                                                                                                                                               \n",
      " notebook            | null                                                                                                                                                                                                                                                                               \n",
      " clusterId           | null                                                                                                                                                                                                                                                                               \n",
      " readVersion         | 0                                                                                                                                                                                                                                                                                  \n",
      " isolationLevel      | Serializable                                                                                                                                                                                                                                                                       \n",
      " isBlindAppend       | false                                                                                                                                                                                                                                                                              \n",
      " operationMetrics    | {numRemovedFiles -> 1, numCopiedRows -> 599, executionTimeMs -> 921, scanTimeMs -> 582, numAddedFiles -> 1, numUpdatedRows -> 1, rewriteTimeMs -> 339}                                                                                                                             \n",
      " userMetadata        | null                                                                                                                                                                                                                                                                               \n",
      " engineInfo          | Apache-Spark/3.2.1 Delta-Lake/1.2.1                                                                                                                                                                                                                                                \n",
      "-RECORD 2-------------------------------------------------------------------------------------------------------------------------------------------------------------------------------------------------------------------------------------------------------------------------------------------------\n",
      " version             | 0                                                                                                                                                                                                                                                                                  \n",
      " timestamp           | 2022-07-11 13:29:02.304                                                                                                                                                                                                                                                            \n",
      " userId              | null                                                                                                                                                                                                                                                                               \n",
      " userName            | null                                                                                                                                                                                                                                                                               \n",
      " operation           | WRITE                                                                                                                                                                                                                                                                              \n",
      " operationParameters | {mode -> Overwrite, partitionBy -> []}                                                                                                                                                                                                                                             \n",
      " job                 | null                                                                                                                                                                                                                                                                               \n",
      " notebook            | null                                                                                                                                                                                                                                                                               \n",
      " clusterId           | null                                                                                                                                                                                                                                                                               \n",
      " readVersion         | null                                                                                                                                                                                                                                                                               \n",
      " isolationLevel      | Serializable                                                                                                                                                                                                                                                                       \n",
      " isBlindAppend       | false                                                                                                                                                                                                                                                                              \n",
      " operationMetrics    | {numFiles -> 1, numOutputRows -> 600, numOutputBytes -> 11422}                                                                                                                                                                                                                     \n",
      " userMetadata        | null                                                                                                                                                                                                                                                                               \n",
      " engineInfo          | Apache-Spark/3.2.1 Delta-Lake/1.2.1                                                                                                                                                                                                                                                \n",
      "\n"
     ]
    }
   ],
   "source": [
    "delta_object.history().show(truncate=False, vertical=True)"
   ]
  },
  {
   "cell_type": "code",
   "execution_count": 72,
   "metadata": {},
   "outputs": [
    {
     "name": "stdout",
     "output_type": "stream",
     "text": [
      "+-------+-----------------------+---------+\n",
      "|version|timestamp              |operation|\n",
      "+-------+-----------------------+---------+\n",
      "|2      |2022-07-11 13:29:16.574|MERGE    |\n",
      "|1      |2022-07-11 13:29:09.952|UPDATE   |\n",
      "|0      |2022-07-11 13:29:02.304|WRITE    |\n",
      "+-------+-----------------------+---------+\n",
      "\n"
     ]
    }
   ],
   "source": [
    "cols_history = ['version', 'timestamp', 'operation']\n",
    "delta_object.history().select(cols_history).show(truncate=False)"
   ]
  },
  {
   "cell_type": "code",
   "execution_count": 73,
   "metadata": {},
   "outputs": [
    {
     "name": "stderr",
     "output_type": "stream",
     "text": [
      "                                                                                \r"
     ]
    },
    {
     "name": "stdout",
     "output_type": "stream",
     "text": [
      "+-------+--------------------+\n",
      "|user_id|               email|\n",
      "+-------+--------------------+\n",
      "|   1703|daron.bailey@emai...|\n",
      "|   3650|jonah.barrows@ema...|\n",
      "|   8809|carla.hansen@emai...|\n",
      "|   4606|tomas.ledner@emai...|\n",
      "|      1|alyse.ortiz@email...|\n",
      "|   9245|russell.kulas@ema...|\n",
      "|   3425|armida.lehner@ema...|\n",
      "|   4264|tad.sanford@email...|\n",
      "|   1668|rosia.jones@email...|\n",
      "|    343|candy.conroy@emai...|\n",
      "|   7393|dulcie.gottlieb@e...|\n",
      "|   3909|rodrigo.reynolds@...|\n",
      "|   9952|jenna.bode@email.com|\n",
      "|   2364|dan.herman@email.com|\n",
      "|   1611|stanley.witting@e...|\n",
      "|   1723|clarinda.kilback@...|\n",
      "|   7032|charley.carroll@e...|\n",
      "|    549|cameron.harris@em...|\n",
      "|   4161|reyes.stracke@ema...|\n",
      "|    503|jolynn.schulist@e...|\n",
      "+-------+--------------------+\n",
      "only showing top 20 rows\n",
      "\n"
     ]
    },
    {
     "data": {
      "text/plain": [
       "600"
      ]
     },
     "execution_count": 73,
     "metadata": {},
     "output_type": "execute_result"
    }
   ],
   "source": [
    "# time travel per version\n",
    "time_travel_version_0 = (\n",
    "    spark\n",
    "        .read\n",
    "        .format('delta')\n",
    "        .option('versionAsOf', '0') # versionAsOf / timestampAsOf\n",
    "        .load('../delta/bronze/user/')\n",
    ")\n",
    "\n",
    "time_travel_version_0.show()\n",
    "time_travel_version_0.count()"
   ]
  },
  {
   "cell_type": "code",
   "execution_count": 74,
   "metadata": {},
   "outputs": [
    {
     "name": "stdout",
     "output_type": "stream",
     "text": [
      "+-------+-----------------------+\n",
      "|user_id|email                  |\n",
      "+-------+-----------------------+\n",
      "|3650   |jonah.barrows@email.com|\n",
      "|1703   |daron.bailey@email.com |\n",
      "|1805   |renee.hahn@email.com   |\n",
      "+-------+-----------------------+\n",
      "\n"
     ]
    }
   ],
   "source": [
    "# verify changes beetween to versions delta\n",
    "df.exceptAll(delta_object.toDF()).show(truncate=False)"
   ]
  },
  {
   "cell_type": "code",
   "execution_count": 75,
   "metadata": {},
   "outputs": [
    {
     "name": "stdout",
     "output_type": "stream",
     "text": [
      "root\n",
      " |-- user_id: long (nullable = true)\n",
      " |-- email: string (nullable = true)\n",
      " |-- gender: string (nullable = true)\n",
      "\n"
     ]
    }
   ],
   "source": [
    "# read raw data\n",
    "df = spark.read.format('json').load('../data/')\n",
    "\n",
    "# insert new columns\n",
    "columns = ['user_id', 'email', 'gender']\n",
    "df = df.select(columns)\n",
    "df.printSchema()"
   ]
  },
  {
   "cell_type": "code",
   "execution_count": 76,
   "metadata": {},
   "outputs": [
    {
     "name": "stderr",
     "output_type": "stream",
     "text": [
      "                                                                                \r"
     ]
    }
   ],
   "source": [
    "# evolution schema\n",
    "df.write.format('delta').mode('overwrite').option('mergeSchema', True).save('../delta/bronze/user') # mergeSchema / overwriteSchema"
   ]
  },
  {
   "cell_type": "code",
   "execution_count": 77,
   "metadata": {},
   "outputs": [
    {
     "name": "stdout",
     "output_type": "stream",
     "text": [
      "+-------+--------------------+-----------+\n",
      "|user_id|               email|     gender|\n",
      "+-------+--------------------+-----------+\n",
      "|   3395|marcos.collier@em...|   Bigender|\n",
      "|   1556|elina.hills@email...| Non-binary|\n",
      "|   1879|enedina.schroeder...|     Female|\n",
      "|   7805|colin.ryan@email.com|       Male|\n",
      "|   3982|dallas.boyle@emai...| Polygender|\n",
      "|   7274|grover.towne@emai...|    Agender|\n",
      "|   3184|dexter.schmitt@em...|Genderfluid|\n",
      "|    550|novella.weber@ema...|Genderqueer|\n",
      "|   8365|lesley.mccullough...|       Male|\n",
      "|   4942|marti.marks@email...|   Bigender|\n",
      "|   8327|shawnna.keebler@e...|Genderfluid|\n",
      "|   9464|guillermo.beahan@...|   Bigender|\n",
      "|   4123|sid.bechtelar@ema...| Non-binary|\n",
      "|   2281|merrill.upton@ema...|     Female|\n",
      "|   6998|felipe.ward@email...|    Agender|\n",
      "|   7440|willie.walsh@emai...|       Male|\n",
      "|   8397|jae.krajcik@email...| Polygender|\n",
      "|   9437|wilfredo.bailey@e...| Polygender|\n",
      "|   3148|josefa.marvin@ema...|     Female|\n",
      "|   2535|loyd.hintz@email.com| Polygender|\n",
      "+-------+--------------------+-----------+\n",
      "only showing top 20 rows\n",
      "\n"
     ]
    }
   ],
   "source": [
    "delta_object = DeltaTable.forPath(spark, '../delta/bronze/user/')\n",
    "delta_object.toDF().show()"
   ]
  },
  {
   "cell_type": "code",
   "execution_count": 78,
   "metadata": {},
   "outputs": [],
   "source": [
    "# file that will map the files inserted after the last write operation\n",
    "delta_object.generate('symlink_format_manifest')"
   ]
  },
  {
   "cell_type": "code",
   "execution_count": 79,
   "metadata": {},
   "outputs": [],
   "source": [
    "# write files in parquet format\n",
    "df.coalesce(1).write.format('parquet').mode('overwrite').save('../parquet/user')"
   ]
  },
  {
   "cell_type": "code",
   "execution_count": 80,
   "metadata": {},
   "outputs": [
    {
     "name": "stderr",
     "output_type": "stream",
     "text": [
      "                                                                                \r"
     ]
    },
    {
     "name": "stdout",
     "output_type": "stream",
     "text": [
      "_SUCCESS\n",
      "\u001b[1m\u001b[36m_delta_log\u001b[m\u001b[m\n",
      "part-00000-d2e397b4-6f5e-4ed6-88a2-d558a9031f24-c000.snappy.parquet\n"
     ]
    }
   ],
   "source": [
    "# converts the file type from parquet to delta, note that the _delta_log directory was created\n",
    "delta_object.convertToDelta(spark, 'parquet.`../parquet/user/`')\n",
    "!ls ../parquet/user/"
   ]
  }
 ],
 "metadata": {
  "kernelspec": {
   "display_name": "Python 3.9.13 64-bit",
   "language": "python",
   "name": "python3"
  },
  "language_info": {
   "codemirror_mode": {
    "name": "ipython",
    "version": 3
   },
   "file_extension": ".py",
   "mimetype": "text/x-python",
   "name": "python",
   "nbconvert_exporter": "python",
   "pygments_lexer": "ipython3",
   "version": "3.9.13"
  },
  "orig_nbformat": 4,
  "vscode": {
   "interpreter": {
    "hash": "8b4f5f55bb750d135440655846008a46e73b7c47dadaa9c8c62811f542e35564"
   }
  }
 },
 "nbformat": 4,
 "nbformat_minor": 2
}
